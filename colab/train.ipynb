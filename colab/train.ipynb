{
 "nbformat": 4,
 "nbformat_minor": 0,
 "metadata": {
  "accelerator": "GPU",
  "colab": {
   "provenance": [],
   "gpuType": "T4"
  },
  "kernelspec": {
   "display_name": "Python 3",
   "name": "python3"
  },
  "language_info": {
   "name": "python"
  }
 },
 "cells": [
  {
   "cell_type": "markdown",
   "metadata": {
    "id": "Cbz_U1peIPyF",
    "pycharm": {
     "name": "#%% md\n"
    }
   },
   "source": [
    "### Google Drive requirements:\n",
    "1. `CS-COCO.zip` dataset file\n",
    "2. `adain` package\n",
    "3. `content.jpg` and `style.jpg` images (must be the same size)\n",
    "4. `vgg19-norm.pth` file with VGG19 weights\n",
    "5. `checkpoints/checkpoint-<iter_num>.pth` (if you want to start training from checkpoint)"
   ]
  },
  {
   "cell_type": "code",
   "metadata": {
    "colab": {
     "base_uri": "https://localhost:8080/"
    },
    "id": "L7-MJmj_LLkh",
    "executionInfo": {
     "status": "ok",
     "timestamp": 1709556911002,
     "user_tz": -60,
     "elapsed": 19525,
     "user": {
      "displayName": "Максим Сапронов",
      "userId": "11309870765420063659"
     }
    },
    "outputId": "af5c7344-9db7-44aa-97ca-6d8becfa6099",
    "pycharm": {
     "name": "#%%\n"
    }
   },
   "source": [
    "from google.colab import drive\n",
    "drive.mount('/content/drive')"
   ],
   "execution_count": null,
   "outputs": []
  },
  {
   "cell_type": "code",
   "source": [
    "import os\n",
    "import sys\n",
    "\n",
    "path2drive = '/content/drive/MyDrive'\n",
    "zip_file = os.path.join(path2drive, 'CS-COCO.zip')\n",
    "path2vgg = os.path.join(path2drive, 'vgg19-norm.pth')\n",
    "\n",
    "sys.path.append(path2drive)"
   ],
   "metadata": {
    "id": "WYZ98ubqwQ3a",
    "executionInfo": {
     "status": "ok",
     "timestamp": 1709556911003,
     "user_tz": -60,
     "elapsed": 5,
     "user": {
      "displayName": "Максим Сапронов",
      "userId": "11309870765420063659"
     }
    }
   },
   "execution_count": null,
   "outputs": []
  },
  {
   "cell_type": "code",
   "metadata": {
    "id": "HoPLm8jJLRqp",
    "pycharm": {
     "name": "#%%\n"
    },
    "executionInfo": {
     "status": "ok",
     "timestamp": 1709556920085,
     "user_tz": -60,
     "elapsed": 9086,
     "user": {
      "displayName": "Максим Сапронов",
      "userId": "11309870765420063659"
     }
    }
   },
   "source": [
    "from adain.train import *\n",
    "\n",
    "import zipfile\n",
    "\n",
    "import torch"
   ],
   "execution_count": null,
   "outputs": []
  },
  {
   "cell_type": "code",
   "source": [
    "config = TrainingConfig(\n",
    "    path2ds='/content/CS-COCO',\n",
    "    checkpoints_dir=os.path.join(path2drive, 'checkpoints'),\n",
    "    content_img=os.path.join(path2drive, 'content.jpg'),\n",
    "    style_img=os.path.join(path2drive, 'style.jpg'),\n",
    "    logs_dir=os.path.join(path2drive, 'logs'),\n",
    "    batch_size=32,\n",
    "    save_freq=125,\n",
    ")"
   ],
   "metadata": {
    "id": "ieJOiLOvweum",
    "executionInfo": {
     "status": "ok",
     "timestamp": 1709556920086,
     "user_tz": -60,
     "elapsed": 29,
     "user": {
      "displayName": "Максим Сапронов",
      "userId": "11309870765420063659"
     }
    }
   },
   "execution_count": null,
   "outputs": []
  },
  {
   "cell_type": "code",
   "outputs": [],
   "source": [
    "archive = zipfile.ZipFile(zip_file, 'r')\n",
    "archive.extractall(config.path2ds)"
   ],
   "metadata": {
    "id": "KKG7qnD8v3_M",
    "executionInfo": {
     "status": "ok",
     "timestamp": 1709557101583,
     "user_tz": -60,
     "elapsed": 181524,
     "user": {
      "displayName": "Максим Сапронов",
      "userId": "11309870765420063659"
     }
    }
   },
   "execution_count": null
  },
  {
   "cell_type": "code",
   "metadata": {
    "id": "SwcD1wuNSVfJ",
    "pycharm": {
     "name": "#%%\n"
    },
    "executionInfo": {
     "status": "ok",
     "timestamp": 1709557101584,
     "user_tz": -60,
     "elapsed": 10,
     "user": {
      "displayName": "Максим Сапронов",
      "userId": "11309870765420063659"
     }
    }
   },
   "source": [
    "if not os.path.exists(config.checkpoints_dir):\n",
    "    os.makedirs(config.checkpoints_dir)\n",
    "\n",
    "if not os.path.exists(config.logs_dir):\n",
    "    os.makedirs(config.logs_dir)"
   ],
   "execution_count": null,
   "outputs": []
  },
  {
   "cell_type": "code",
   "source": [
    "model = StyleTransferNetwork(path2vgg).to(DEVICE)\n",
    "\n",
    "indices = [int(f[11:-4]) for f in os.listdir(config.checkpoints_dir)] + [-1, 0]\n",
    "start = max(indices)\n",
    "\n",
    "if start:\n",
    "    path = os.path.join(config.checkpoints_dir, f'checkpoint-{start}.pth')\n",
    "    state_dict = torch.load(path, map_location=DEVICE)\n",
    "    model.load_state_dict(state_dict)"
   ],
   "metadata": {
    "id": "EgsBTxRH3sZl",
    "executionInfo": {
     "status": "ok",
     "timestamp": 1709557103401,
     "user_tz": -60,
     "elapsed": 1824,
     "user": {
      "displayName": "Максим Сапронов",
      "userId": "11309870765420063659"
     }
    }
   },
   "execution_count": null,
   "outputs": []
  },
  {
   "cell_type": "code",
   "metadata": {
    "id": "sje_Ht7uUJIy",
    "pycharm": {
     "name": "#%%\n"
    },
    "executionInfo": {
     "status": "error",
     "timestamp": 1709557319448,
     "user_tz": -60,
     "elapsed": 216051,
     "user": {
      "displayName": "Максим Сапронов",
      "userId": "11309870765420063659"
     }
    },
    "colab": {
     "base_uri": "https://localhost:8080/",
     "height": 315
    },
    "outputId": "aafef148-034d-4099-f858-80c3537219ff"
   },
   "source": [
    "for iter_num in train(model, config, start):\n",
    "    save_model(model, config, iter_num)\n",
    "    save_log(model, config, iter_num)"
   ],
   "execution_count": null,
   "outputs": []
  },
  {
   "cell_type": "code",
   "source": [],
   "metadata": {
    "id": "I0_8__GcdXJ1"
   },
   "execution_count": null,
   "outputs": []
  }
 ]
}
