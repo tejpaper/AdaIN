{
 "nbformat": 4,
 "nbformat_minor": 0,
 "metadata": {
  "accelerator": "GPU",
  "colab": {
   "name": "train.ipynb",
   "provenance": [],
   "collapsed_sections": []
  },
  "kernelspec": {
   "display_name": "Python 3",
   "name": "python3"
  },
  "language_info": {
   "name": "python"
  }
 },
 "cells": [
  {
   "cell_type": "markdown",
   "metadata": {
    "id": "Cbz_U1peIPyF",
    "pycharm": {
     "name": "#%% md\n"
    }
   },
   "source": [
    "### Google Drive requirements:\n",
    "1. `CS-COCO.zip` dataset file\n",
    "2. `adain` package and `train.py` module\n",
    "3. `content.jpg` and `style.jpg` images (must be the same size)\n",
    "4. `vgg19-norm.pth` file with VGG19 weights\n",
    "5. `checkpoint-<iter_num>.pth` (if you want to start training from checkpoint)"
   ]
  },
  {
   "cell_type": "code",
   "metadata": {
    "colab": {
     "base_uri": "https://localhost:8080/"
    },
    "id": "L7-MJmj_LLkh",
    "executionInfo": {
     "status": "ok",
     "timestamp": 1633727631692,
     "user_tz": -120,
     "elapsed": 22526,
     "user": {
      "displayName": "Maxim Sapronov",
      "photoUrl": "https://lh3.googleusercontent.com/a-/AOh14Gif_RgR0by-rI1-KuJzIL4iROaYltUhDamvRaJI=s64",
      "userId": "08892874180811598617"
     }
    },
    "outputId": "8b12ffed-cae8-42fa-bc41-ddae6490f18e",
    "pycharm": {
     "name": "#%%\n"
    }
   },
   "source": [
    "from google.colab import drive\n",
    "drive.mount('/content/gdrive/')"
   ],
   "execution_count": null,
   "outputs": [
    {
     "output_type": "stream",
     "name": "stdout",
     "text": [
      "Mounted at /content/gdrive/\n"
     ]
    }
   ]
  },
  {
   "cell_type": "code",
   "metadata": {
    "id": "HoPLm8jJLRqp",
    "pycharm": {
     "name": "#%%\n"
    }
   },
   "source": [
    "import os\n",
    "import sys\n",
    "\n",
    "path2drive = '/content/gdrive/My Drive'\n",
    "output = os.path.join(path2drive, 'output')\n",
    "\n",
    "sys.path.append(path2drive)"
   ],
   "execution_count": null,
   "outputs": []
  },
  {
   "cell_type": "code",
   "metadata": {
    "id": "poCCUHS_LW6p",
    "pycharm": {
     "name": "#%%\n"
    }
   },
   "source": [
    "import zipfile\n",
    "\n",
    "path2ds = '/content/CS-COCO'\n",
    "zip_file = os.path.join(path2drive, 'CS-COCO.zip')\n",
    "\n",
    "archive = zipfile.ZipFile(zip_file, 'r')\n",
    "archive.extractall(path2ds)"
   ],
   "execution_count": null,
   "outputs": []
  },
  {
   "cell_type": "code",
   "metadata": {
    "id": "SwcD1wuNSVfJ",
    "pycharm": {
     "name": "#%%\n"
    }
   },
   "source": [
    "import shutil\n",
    "from utils.constants import CHECKPOINTS_DIR, PATH2VGG, LOGS_DIR\n",
    "\n",
    "if not os.path.exists(output):\n",
    "    os.mkdir(output)\n",
    "\n",
    "if not os.path.exists('extra'):\n",
    "    os.mkdir('extra')\n",
    "\n",
    "    shutil.copy(os.path.join(path2drive, 'content.jpg'), '/content/extra/content.jpg')\n",
    "    shutil.copy(os.path.join(path2drive, 'style.jpg'), '/content/extra/style.jpg')\n",
    "\n",
    "if not os.path.exists(CHECKPOINTS_DIR):\n",
    "    os.makedirs(CHECKPOINTS_DIR)\n",
    "    \n",
    "    shutil.copy(os.path.join(path2drive, 'vgg19-norm.pth'), f'/content/{PATH2VGG}')\n",
    "\n",
    "if not os.path.exists(LOGS_DIR):\n",
    "    os.makedirs(LOGS_DIR)"
   ],
   "execution_count": null,
   "outputs": []
  },
  {
   "cell_type": "code",
   "metadata": {
    "colab": {
     "base_uri": "https://localhost:8080/"
    },
    "id": "sje_Ht7uUJIy",
    "outputId": "213b4a0a-deec-48a1-fdc8-0ae8244c6bd9",
    "pycharm": {
     "name": "#%%\n"
    }
   },
   "source": [
    "from utils import *\n",
    "from utils.utils import save_model, save_log\n",
    "from train import train\n",
    "\n",
    "import torch\n",
    "\n",
    "model = StyleTransferNetwork().to(DEVICE)\n",
    "\n",
    "start = 0\n",
    "\n",
    "for filename in os.listdir(path2drive):\n",
    "    if filename.startswith('checkpoint'):\n",
    "\n",
    "        path = os.path.join(path2drive, filename)\n",
    "        state_dict = torch.load(path, map_location=DEVICE)\n",
    "\n",
    "        model.load_state_dict(state_dict)\n",
    "        start = int(filename[11:-4])\n",
    "\n",
    "        print('Successful uploading')\n",
    "        break\n",
    "\n",
    "for iter_num in train(model, path2ds, start):\n",
    "    path2model = save_model(model, iter_num)\n",
    "    shutil.copy(path2model, os.path.join(output, os.path.basename(path2model)))\n",
    "\n",
    "    path2log = save_log(model, iter_num)\n",
    "    shutil.copy(path2log, os.path.join(output, os.path.basename(path2log)))"
   ],
   "execution_count": null,
   "outputs": [
    {
     "metadata": {
      "tags": null
     },
     "name": "stdout",
     "output_type": "stream",
     "text": [
      "Successful uploading\n"
     ]
    },
    {
     "metadata": {
      "tags": null
     },
     "name": "stderr",
     "output_type": "stream",
     "text": [
      "Epoch: 15; samples:   0%|          | 0/28000 [00:00<?, ? sample/s]/usr/local/lib/python3.7/dist-packages/torch/nn/functional.py:718: UserWarning: Named tensors and all their associated APIs are an experimental feature and subject to change. Please do not use them for anything important until they are released as stable. (Triggered internally at  /pytorch/c10/core/TensorImpl.h:1156.)\n",
      "  return torch.max_pool2d(input, kernel_size, stride, padding, dilation, ceil_mode)\n",
      "Epoch: 15; samples: 100%|██████████| 28000/28000 [1:16:00<00:00,  6.14 sample/s]\n"
     ]
    },
    {
     "metadata": {
      "tags": null
     },
     "name": "stdout",
     "output_type": "stream",
     "text": [
      "Mean content loss: 1.3570023775100708\n",
      "Mean style loss: 0.37971818447113037\n",
      "Mean common loss: 5.154184341430664\n"
     ]
    },
    {
     "output_type": "stream",
     "name": "stderr",
     "text": [
      "Epoch: 16; samples:  65%|██████▍   | 51760/80000 [2:20:56<1:20:09,  5.87 sample/s]"
     ]
    }
   ]
  }
 ]
}
