{
 "cells": [
  {
   "cell_type": "code",
   "outputs": [],
   "source": [
    "from adain.train import *"
   ],
   "metadata": {
    "collapsed": false,
    "ExecuteTime": {
     "end_time": "2024-03-21T16:25:32.893701Z",
     "start_time": "2024-03-21T16:25:32.890425Z"
    }
   },
   "id": "78acfbd29e14d946",
   "execution_count": 0
  },
  {
   "cell_type": "code",
   "outputs": [],
   "source": [
    "model = StyleTransferNetwork().to(DEVICE)\n",
    "config = TrainingConfig()"
   ],
   "metadata": {
    "collapsed": false,
    "ExecuteTime": {
     "end_time": "2024-03-21T16:25:32.898554Z",
     "start_time": "2024-03-21T16:25:32.895753Z"
    }
   },
   "id": "93856838593338e8",
   "execution_count": 0
  },
  {
   "cell_type": "code",
   "outputs": [],
   "source": [
    "for iter_num in train(model, config):\n",
    "    save_model(model, config, iter_num)\n",
    "    save_log(model, config, iter_num)"
   ],
   "metadata": {
    "collapsed": false,
    "ExecuteTime": {
     "end_time": "2024-03-21T16:25:32.903307Z",
     "start_time": "2024-03-21T16:25:32.900507Z"
    }
   },
   "id": "f91633f2f60a8233",
   "execution_count": 0
  }
 ],
 "metadata": {
  "kernelspec": {
   "display_name": "Python 3",
   "language": "python",
   "name": "python3"
  },
  "language_info": {
   "codemirror_mode": {
    "name": "ipython",
    "version": 2
   },
   "file_extension": ".py",
   "mimetype": "text/x-python",
   "name": "python",
   "nbconvert_exporter": "python",
   "pygments_lexer": "ipython2",
   "version": "2.7.6"
  }
 },
 "nbformat": 4,
 "nbformat_minor": 5
}
